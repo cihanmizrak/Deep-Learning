{
 "cells": [
  {
   "cell_type": "code",
   "execution_count": 3,
   "metadata": {},
   "outputs": [],
   "source": [
    "import numpy as np"
   ]
  },
  {
   "cell_type": "code",
   "execution_count": 5,
   "metadata": {},
   "outputs": [],
   "source": [
    "class Perceptron:\n",
    "    def __init__(self, inputs, bias = 1.0):\n",
    "        self.weights = (np.random.rand(inputs+1)*2)-1\n",
    "        self.bias = bias\n",
    "        \n",
    "    def run(self,x):\n",
    "        sum = np.dot(np.append(x,self.bias),self.weights) \n",
    "        return self.sigmoid(sum)  \n",
    "\n",
    "    def set_weights(self,w_init):\n",
    "        self.weights = np.array(w_init)\n",
    "\n",
    "    def sigmoid(self,x):\n",
    "        return 1/(1+np.exp(-x)) \n",
    "    "
   ]
  },
  {
   "cell_type": "code",
   "execution_count": 10,
   "metadata": {},
   "outputs": [
    {
     "name": "stdout",
     "output_type": "stream",
     "text": [
      "Gate:\n",
      "0 0 = 0.0000003059\n",
      "0 1 = 0.0066928509\n",
      "1 0 = 0.0066928509\n",
      "1 1 = 0.9933071491\n"
     ]
    }
   ],
   "source": [
    "neuron = Perceptron(inputs=2)\n",
    "neuron.set_weights([10,10,-15]) #AND Gate\n",
    "\n",
    "print(\"Gate:\")\n",
    "print(\"0 0 = {0:.10f}\".format(neuron.run([0,0])))\n",
    "print(\"0 1 = {0:.10f}\".format(neuron.run([0,1])))\n",
    "print(\"1 0 = {0:.10f}\".format(neuron.run([1,0])))\n",
    "print(\"1 1 = {0:.10f}\".format(neuron.run([1,1])))"
   ]
  },
  {
   "cell_type": "code",
   "execution_count": null,
   "metadata": {},
   "outputs": [],
   "source": []
  }
 ],
 "metadata": {
  "kernelspec": {
   "display_name": "Python 3.9.0 64-bit",
   "language": "python",
   "name": "python3"
  },
  "language_info": {
   "codemirror_mode": {
    "name": "ipython",
    "version": 3
   },
   "file_extension": ".py",
   "mimetype": "text/x-python",
   "name": "python",
   "nbconvert_exporter": "python",
   "pygments_lexer": "ipython3",
   "version": "3.9.0"
  },
  "orig_nbformat": 4,
  "vscode": {
   "interpreter": {
    "hash": "d5d1695abf9ea9af0e89f7253eb63f3e6592d746ed50fb1189c56b9cc8245f2a"
   }
  }
 },
 "nbformat": 4,
 "nbformat_minor": 2
}
